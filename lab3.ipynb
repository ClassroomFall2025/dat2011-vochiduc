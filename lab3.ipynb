{
 "cells": [
  {
   "cell_type": "markdown",
   "id": "fdeff819",
   "metadata": {},
   "source": [
    "# Sinh Viên thực hiện Lab 3 ở Đây"
   ]
  },
  {
   "cell_type": "markdown",
   "id": "acc5d7dc",
   "metadata": {},
   "source": [
    "## Lab 3 - Bài 1"
   ]
  },
  {
   "cell_type": "code",
   "execution_count": 1,
   "id": "001e0507",
   "metadata": {},
   "outputs": [
    {
     "name": "stdout",
     "output_type": "stream",
     "text": [
      "Vui lòng nhập lại số hoặc e để thoát\n",
      "Thoát chương trình\n",
      "Dãy số hiện tại: [1, 2, 3, 4, 5, 6, 7, 8, 8]\n",
      "Dãy số sau khi sắp xếp: [1, 2, 3, 4, 5, 6, 7, 8, 8]\n",
      "Dãy số sau khi sắp xếp ngược: [8, 8, 7, 6, 5, 4, 3, 2, 1]\n",
      "Số lớn nhất trong dãy số là: 8\n",
      "Số nhỏ nhất trong dãy số là: 1\n",
      "Tổng các số chia hết cho 3 là: 9\n",
      "Trung bình các số chia hết cho 3 là: 4.5\n"
     ]
    }
   ],
   "source": [
    "dãy_số = []\n",
    "while True:\n",
    "    số = input('Nhập số: ')\n",
    "    if số == 'e':\n",
    "        print('Thoát chương trình')\n",
    "        break\n",
    "    else:\n",
    "        try:\n",
    "            phần_tử = int(số)\n",
    "            dãy_số.append(phần_tử)\n",
    "        except ValueError:\n",
    "            print('Vui lòng nhập lại số hoặc e để thoát')\n",
    "            continue\n",
    "print('Dãy số hiện tại:', dãy_số)\n",
    "# Dãy số tăng dần\n",
    "dãy_số.sort()\n",
    "print('Dãy số sau khi sắp xếp:', dãy_số)\n",
    "# Dãy số giảm dần\n",
    "dãy_số.sort(reverse=True)\n",
    "print('Dãy số sau khi sắp xếp ngược:', dãy_số)\n",
    "# Tìm số lớn nhất và nhỏ nhất trong dãy số\n",
    "dãy_số_max = max(dãy_số)\n",
    "dãy_số_min = min(dãy_số)\n",
    "print('Số lớn nhất trong dãy số là:', dãy_số_max)\n",
    "print('Số nhỏ nhất trong dãy số là:', dãy_số_min)\n",
    "Tổng = 0\n",
    "dem = 0\n",
    "for phần_tử in dãy_số:\n",
    "    if phần_tử % 3 == 0:\n",
    "        Tổng += phần_tử\n",
    "        dem += 1\n",
    "print(f'Tổng các số chia hết cho 3 là: {Tổng}')\n",
    "if dem > 0:\n",
    "    kết_quả = Tổng / dem\n",
    "else:\n",
    "    kết_quả = 0\n",
    "print(f'Trung bình các số chia hết cho 3 là: {kết_quả}')"
   ]
  },
  {
   "cell_type": "markdown",
   "id": "c0835310",
   "metadata": {},
   "source": [
    "## Lab 3 - Bài 2"
   ]
  },
  {
   "cell_type": "code",
   "execution_count": null,
   "id": "fa9cb39f",
   "metadata": {},
   "outputs": [
    {
     "ename": "IndentationError",
     "evalue": "unindent does not match any outer indentation level (<string>, line 11)",
     "output_type": "error",
     "traceback": [
      "  \u001b[36mFile \u001b[39m\u001b[32m<string>:11\u001b[39m\n\u001b[31m    \u001b[39m\u001b[31mif diem >= 9 and diem <= 10:\u001b[39m\n                                ^\n\u001b[31mIndentationError\u001b[39m\u001b[31m:\u001b[39m unindent does not match any outer indentation level\n"
     ]
    }
   ],
   "source": [
    "# Code lab 3  bài 2 ở đây\n",
    "ds_sinh_vien = []\n",
    "sinh_vien = {}\n",
    "while True:\n",
    "    ho_ten = input('Nhập họ tên sinh viên (hoặc \"e\" để thoát): ')\n",
    "    if ho_ten.lower() == 'e':\n",
    "        print('Thoát chương trình')\n",
    "    break \n",
    "else:\n",
    "diem = float(input('Nhập điểm sinh viên: '))\n",
    "if diem >= 9 and diem <= 10:\n",
    "        xep_loai = 'Xuất sắc'\n",
    "elif diem >= 8:\n",
    "        xep_loai = 'Giỏi'\n",
    "elif diem >= 7:\n",
    "        xep_loai = 'Khá'\n",
    "elif diem >= 5:\n",
    "        xep_loai = 'Trung bình'\n",
    "else:\n",
    "        xep_loai = 'Yếu'\n",
    "    [\"họ tên\"] = ho_ten \n",
    "    sinh_vien[\"điểm\"] = diem\n",
    "    sinh_vien[\"xếp loại\"] = xep_loai\n",
    "    ds_sinh_vien.append(sinh_vien)\n",
    "print(ds_sinh_vien)\n",
    "   \n",
    "    "
   ]
  },
  {
   "cell_type": "markdown",
   "id": "0f2483fe",
   "metadata": {},
   "source": [
    "## Lab 3 - Bài 3"
   ]
  },
  {
   "cell_type": "code",
   "execution_count": 14,
   "id": "7034990b",
   "metadata": {},
   "outputs": [],
   "source": [
    "# Code lab 3  bài 3 ở đây"
   ]
  },
  {
   "cell_type": "markdown",
   "id": "d36ea3d3",
   "metadata": {},
   "source": [
    "## Lab 3 - Bài 4"
   ]
  },
  {
   "cell_type": "code",
   "execution_count": 15,
   "id": "4c707ec1",
   "metadata": {},
   "outputs": [],
   "source": [
    "# code lab 3 bài 4 ở đây"
   ]
  },
  {
   "cell_type": "markdown",
   "id": "e2b41d4a",
   "metadata": {},
   "source": [
    "## Lab 3 - Bài 5: bài tập làm thêm"
   ]
  },
  {
   "cell_type": "code",
   "execution_count": 16,
   "id": "0e0172f7",
   "metadata": {},
   "outputs": [
    {
     "name": "stdout",
     "output_type": "stream",
     "text": [
      "Bạn đã chọn món Bánh mì\n"
     ]
    }
   ],
   "source": [
    "# code lab 3  bài làm thêm ở đây \n",
    "# Menu đơn giản \n",
    "lua_chon = input (\"Mời bạn chọn 1 trong 3 món ăn: \\n 1. Phở \\n 2. Cơm sườn \\n 3. Bánh mì \\n Mời bạn chọn: \")\n",
    "match lua_chon:\n",
    "    case \"1\":\n",
    "        print (\"Bạn đã chọn món Phở\")\n",
    "    case \"2\":\n",
    "        print (\"Bạn đã chọn món Cơm sườn\") \n",
    "    case \"3\":\n",
    "        print (\"Bạn đã chọn món Bánh mì\")\n",
    "    case _:\n",
    "        print (\"Món bạn chọn không có trong thực đơn\")       "
   ]
  },
  {
   "cell_type": "code",
   "execution_count": 17,
   "id": "3bc37850",
   "metadata": {},
   "outputs": [
    {
     "name": "stdout",
     "output_type": "stream",
     "text": [
      "\n",
      "    1  . Phep tinh co ban: Cong, tru, nhan, chia\n",
      "    2. Luy thua: Tinh x^y\n",
      "    3. Can bac hai: Tinh √x\n",
      "    4. Ham luong giac: Sin, cos, tan\n",
      "    5. Logarit: Log co so 10, ln, log co so tuy chon\n",
      "    #. Giai phuong trinh bac \n",
      "    7. Giai phuong trinh bac 2\n",
      "    8. Lich su: Luu va xem lai cac phep tinh da thuc hien\n",
      "    9. Thoi gian: Hien thi thoi gian hien tai\n",
      "    10. Giao dien than thien: Menu de su dung bang tieng Viet\n",
      "Chuc nang ban chon khong hop le, vui long chon lai\n"
     ]
    }
   ],
   "source": [
    "Menu = \"\"\"\n",
    "    1  . Phep tinh co ban: Cong, tru, nhan, chia\n",
    "    2. Luy thua: Tinh x^y\n",
    "    3. Can bac hai: Tinh √x\n",
    "    4. Ham luong giac: Sin, cos, tan\n",
    "    5. Logarit: Log co so 10, ln, log co so tuy chon\n",
    "    #. Giai phuong trinh bac \n",
    "    7. Giai phuong trinh bac 2\n",
    "    8. Lich su: Luu va xem lai cac phep tinh da thuc hien\n",
    "    9. Thoi gian: Hien thi thoi gian hien tai\n",
    "    10. Giao dien than thien: Menu de su dung bang tieng Viet\"\"\"\n",
    "while True:\n",
    "    print(Menu)\n",
    "    lua_chon = input (\"Mời bạn chọn chức năng từ 1 đến 10 : \")\n",
    "    match lua_chon:\n",
    "        case 1:\n",
    "            print (\"Phep tinh co ban: Cong, tru, nhan, chia\")\n",
    "        case 2:\n",
    "            print (\"Luy thua: Tinh x^y\") \n",
    "        case 3:\n",
    "            print (\"Can bac hai: Tinh √x\")\n",
    "        case 4:\n",
    "            print (\"Ham luong giac: Sin, cos, tan\")\n",
    "        case 5:\n",
    "            print (\"Logarit: Log co so 10, ln, log co so tuy chon\")   \n",
    "        case 6:\n",
    "            print (\"Giai phuong trinh bac nhat\")\n",
    "        case 7:\n",
    "            print (\"Giai phuong trinh bac 2\")\n",
    "        case 8:\n",
    "            print (\"Lich su: Luu va xem lai cac phep tinh da thuc hien\")\n",
    "        case 9:\n",
    "            print (\"Thoi gian: Hien thi thoi gian hien tai\") \n",
    "        case 10:\n",
    "            print (\"Giao dien than thien: Menu de su dung bang tieng Viet\")\n",
    "        case _:\n",
    "            print (\"Chuc nang ban chon khong hop le, vui long chon lai\")  \n",
    "            break     "
   ]
  },
  {
   "cell_type": "code",
   "execution_count": null,
   "id": "ae12236a",
   "metadata": {},
   "outputs": [],
   "source": [
    "# ...existing code...\n",
    "Menu = \"\"\"\n",
    "    1. Phep tinh co ban: Cong, tru, nhan, chia\n",
    "    2. Luy thua: Tinh x^y\n",
    "    3. Can bac hai: Tinh √x\n",
    "    4. Ham luong giac: Sin, cos, tan\n",
    "    5. Logarit: Log co so 10, ln, log co so tuy chon\n",
    "    6. Giai phuong trinh bac nhat\n",
    "    7. Giai phuong trinh bac 2\n",
    "    8. Lich su: Luu va xem lai cac phep tinh da thuc hien\n",
    "    9. Thoi gian: Hien thi thoi gian hien tai\n",
    "    10. Giao dien than thien: Menu de su dung bang tieng Viet\n",
    "\"\"\"\n",
    "options = {\n",
    "    \"1\": \"Phep tinh co ban: Cong, tru, nhan, chia\",\n",
    "    \"2\": \"Luy thua: Tinh x^y\",\n",
    "    \"3\": \"Can bac hai: Tinh √x\",\n",
    "    \"4\": \"Ham luong giac: Sin, cos, tan\",\n",
    "    \"5\": \"Logarit: Log co so 10, ln, log co so tuy chon\",\n",
    "    \"6\": \"Giai phuong trinh bac nhat\",\n",
    "    \"7\": \"Giai phuong trinh bac 2\",\n",
    "    \"8\": \"Lich su: Luu va xem lai cac phep tinh da thuc hien\",\n",
    "    \"9\": \"Thoi gian: Hien thi thoi gian hien tai\",\n",
    "    \"10\": \"Giao dien than thien: Menu de su dung bang tieng Viet\",\n",
    "    \n",
    "}\n",
    "while True:\n",
    "    print(Menu)\n",
    "    lua_chon = input(\"Mời bạn chọn chức năng từ 1 đến 10 : \").strip()\n",
    "    if lua_chon in options:\n",
    "        print(options[lua_chon])\n",
    "    else:\n",
    "        print(\"Chuc nang ban chon khong hop le, vui long chon lai\")\n",
    "        break\n",
    "# ...existing code..."
   ]
  }
 ],
 "metadata": {
  "kernelspec": {
   "display_name": ".venv (3.13.4)",
   "language": "python",
   "name": "python3"
  },
  "language_info": {
   "codemirror_mode": {
    "name": "ipython",
    "version": 3
   },
   "file_extension": ".py",
   "mimetype": "text/x-python",
   "name": "python",
   "nbconvert_exporter": "python",
   "pygments_lexer": "ipython3",
   "version": "3.13.4"
  }
 },
 "nbformat": 4,
 "nbformat_minor": 5
}
