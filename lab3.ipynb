{
 "cells": [
  {
   "cell_type": "markdown",
   "id": "fdeff819",
   "metadata": {},
   "source": [
    "# Sinh Viên thực hiện Lab 3 ở Đây"
   ]
  },
  {
   "cell_type": "markdown",
   "id": "acc5d7dc",
   "metadata": {},
   "source": [
    "## Lab 3 - Bài 1"
   ]
  },
  {
   "cell_type": "code",
   "execution_count": 1,
   "id": "001e0507",
   "metadata": {},
   "outputs": [
    {
     "name": "stdout",
     "output_type": "stream",
     "text": [
      "Vui lòng nhập lại số hoặc e để thoát\n",
      "Thoát chương trình\n",
      "Dãy số hiện tại: [1, 2, 3, 4, 5, 6, 7, 8, 8]\n",
      "Dãy số sau khi sắp xếp: [1, 2, 3, 4, 5, 6, 7, 8, 8]\n",
      "Dãy số sau khi sắp xếp ngược: [8, 8, 7, 6, 5, 4, 3, 2, 1]\n",
      "Số lớn nhất trong dãy số là: 8\n",
      "Số nhỏ nhất trong dãy số là: 1\n",
      "Tổng các số chia hết cho 3 là: 9\n",
      "Trung bình các số chia hết cho 3 là: 4.5\n"
     ]
    }
   ],
   "source": [
    "dãy_số = []\n",
    "while True:\n",
    "    số = input('Nhập số: ')\n",
    "    if số == 'e':\n",
    "        print('Thoát chương trình')\n",
    "        break\n",
    "    else:\n",
    "        try:\n",
    "            phần_tử = int(số)\n",
    "            dãy_số.append(phần_tử)\n",
    "        except ValueError:\n",
    "            print('Vui lòng nhập lại số hoặc e để thoát')\n",
    "            continue\n",
    "print('Dãy số hiện tại:', dãy_số)\n",
    "# Dãy số tăng dần\n",
    "dãy_số.sort()\n",
    "print('Dãy số sau khi sắp xếp:', dãy_số)\n",
    "# Dãy số giảm dần\n",
    "dãy_số.sort(reverse=True)\n",
    "print('Dãy số sau khi sắp xếp ngược:', dãy_số)\n",
    "# Tìm số lớn nhất và nhỏ nhất trong dãy số\n",
    "dãy_số_max = max(dãy_số)\n",
    "dãy_số_min = min(dãy_số)\n",
    "print('Số lớn nhất trong dãy số là:', dãy_số_max)\n",
    "print('Số nhỏ nhất trong dãy số là:', dãy_số_min)\n",
    "Tổng = 0\n",
    "dem = 0\n",
    "for phần_tử in dãy_số:\n",
    "    if phần_tử % 3 == 0:\n",
    "        Tổng += phần_tử\n",
    "        dem += 1\n",
    "print(f'Tổng các số chia hết cho 3 là: {Tổng}')\n",
    "if dem > 0:\n",
    "    kết_quả = Tổng / dem\n",
    "else:\n",
    "    kết_quả = 0\n",
    "print(f'Trung bình các số chia hết cho 3 là: {kết_quả}')"
   ]
  },
  {
   "cell_type": "markdown",
   "id": "c0835310",
   "metadata": {},
   "source": [
    "## Lab 3 - Bài 2"
   ]
  },
  {
   "cell_type": "code",
   "execution_count": 1,
   "id": "fa9cb39f",
   "metadata": {},
   "outputs": [
    {
     "name": "stdout",
     "output_type": "stream",
     "text": [
      "[{'họ tên': 'huy chương ', 'điểm': 10.0, 'xếp loại': 'Xuất sắc'}]\n"
     ]
    }
   ],
   "source": [
    "# Code lab 3  bài 2 ở đây\n",
    "ds_sinh_vien = []\n",
    "sinh_vien = {}\n",
    "while True:\n",
    "    ho_ten = input('Nhập họ tên sinh viên (hoặc \"e\" để thoát): ')\n",
    "    if ho_ten.lower() == 'e':\n",
    "        break \n",
    "    else:   \n",
    "        diem = float(input('Nhập điểm sinh viên: '))\n",
    "        if diem >= 9 and diem <= 10:\n",
    "            xep_loai = 'Xuất sắc'\n",
    "        elif diem >= 8:\n",
    "            xep_loai = 'Giỏi'\n",
    "        elif diem >= 7:\n",
    "            xep_loai = 'Khá'\n",
    "        elif diem >= 5:\n",
    "            xep_loai = 'Trung bình'\n",
    "        else:\n",
    "            xep_loai = 'Yếu'\n",
    "        sinh_vien[\"họ tên\"] = ho_ten \n",
    "        sinh_vien[\"điểm\"] = diem\n",
    "        sinh_vien[\"xếp loại\"] = xep_loai\n",
    "        ds_sinh_vien.append(sinh_vien)\n",
    "print(ds_sinh_vien)\n",
    "   \n",
    "    "
   ]
  },
  {
   "cell_type": "code",
   "execution_count": 3,
   "id": "7034990b",
   "metadata": {},
   "outputs": [
    {
     "name": "stdout",
     "output_type": "stream",
     "text": [
      "4 không phải là số nguyên tố\n",
      "\n",
      "4 không phải là số nguyên tố\n",
      "\n",
      "Vui lòng nhập lại số nguyên hợp lệ\n",
      "1 không phải là số nguyên tố\n",
      "\n",
      "4 không phải là số nguyên tố\n",
      "\n",
      "6 không phải là số nguyên tố\n",
      "\n",
      "8 không phải là số nguyên tố\n",
      "\n",
      "kết thúc\n"
     ]
    }
   ],
   "source": [
    "# Code lab 3  bài 3 ở đây\n",
    "while True:\n",
    "    n = input(\"Nhập số nguyên dương n: \")\n",
    "    if n.lower() =='q' :\n",
    "        print (\"kết thúc\")\n",
    "        break\n",
    "    try:\n",
    "        n = int(n)\n",
    "    except ValueError:\n",
    "        print(\"Vui lòng nhập lại số nguyên hợp lệ\")\n",
    "        continue\n",
    "    ok = True\n",
    "    i = 2 \n",
    "    while i < (n - 1):\n",
    "        if n % i == 0:\n",
    "            ok = False\n",
    "            break\n",
    "        i += 1\n",
    "\n",
    "    if ok and n > 1:\n",
    "        print(f\"{n} là số nguyên tố\\n\")\n",
    "    else:\n",
    "        print(f\"{n} không phải là số nguyên tố\\n\")\n",
    "        \n"
   ]
  },
  {
   "cell_type": "markdown",
   "id": "d36ea3d3",
   "metadata": {},
   "source": [
    "## Lab 3 - Bài 4"
   ]
  },
  {
   "cell_type": "code",
   "execution_count": null,
   "id": "4c707ec1",
   "metadata": {},
   "outputs": [
    {
     "name": "stdout",
     "output_type": "stream",
     "text": [
      "Bảng cửu chương của 4\n",
      "4 x 1 = 4\n",
      "4 x 2 = 8\n",
      "4 x 3 = 12\n",
      "4 x 4 = 16\n",
      "4 x 5 = 20\n",
      "4 x 6 = 24\n",
      "4 x 7 = 28\n",
      "4 x 8 = 32\n",
      "4 x 9 = 36\n",
      "4 x 10 = 40\n",
      "Bảng cửu chương từ 1 đến 9\n",
      " 1 x 1 = 1 \t 2 x 1 = 2 \t 3 x 1 = 3 \t 4 x 1 = 4 \t 5 x 1 = 5 \t 6 x 1 = 6 \t 7 x 1 = 7 \t 8 x 1 = 8 \t 9 x 1 = 9 \t\n",
      " 1 x 2 = 2 \t 2 x 2 = 4 \t 3 x 2 = 6 \t 4 x 2 = 8 \t 5 x 2 = 10\t 6 x 2 = 12\t 7 x 2 = 14\t 8 x 2 = 16\t 9 x 2 = 18\t\n",
      " 1 x 3 = 3 \t 2 x 3 = 6 \t 3 x 3 = 9 \t 4 x 3 = 12\t 5 x 3 = 15\t 6 x 3 = 18\t 7 x 3 = 21\t 8 x 3 = 24\t 9 x 3 = 27\t\n",
      " 1 x 4 = 4 \t 2 x 4 = 8 \t 3 x 4 = 12\t 4 x 4 = 16\t 5 x 4 = 20\t 6 x 4 = 24\t 7 x 4 = 28\t 8 x 4 = 32\t 9 x 4 = 36\t\n",
      " 1 x 5 = 5 \t 2 x 5 = 10\t 3 x 5 = 15\t 4 x 5 = 20\t 5 x 5 = 25\t 6 x 5 = 30\t 7 x 5 = 35\t 8 x 5 = 40\t 9 x 5 = 45\t\n",
      " 1 x 6 = 6 \t 2 x 6 = 12\t 3 x 6 = 18\t 4 x 6 = 24\t 5 x 6 = 30\t 6 x 6 = 36\t 7 x 6 = 42\t 8 x 6 = 48\t 9 x 6 = 54\t\n",
      " 1 x 7 = 7 \t 2 x 7 = 14\t 3 x 7 = 21\t 4 x 7 = 28\t 5 x 7 = 35\t 6 x 7 = 42\t 7 x 7 = 49\t 8 x 7 = 56\t 9 x 7 = 63\t\n",
      " 1 x 8 = 8 \t 2 x 8 = 16\t 3 x 8 = 24\t 4 x 8 = 32\t 5 x 8 = 40\t 6 x 8 = 48\t 7 x 8 = 56\t 8 x 8 = 64\t 9 x 8 = 72\t\n",
      " 1 x 9 = 9 \t 2 x 9 = 18\t 3 x 9 = 27\t 4 x 9 = 36\t 5 x 9 = 45\t 6 x 9 = 54\t 7 x 9 = 63\t 8 x 9 = 72\t 9 x 9 = 81\t\n",
      " 1 x 10 = 10\t 2 x 10 = 20\t 3 x 10 = 30\t 4 x 10 = 40\t 5 x 10 = 50\t 6 x 10 = 60\t 7 x 10 = 70\t 8 x 10 = 80\t 9 x 10 = 90\t\n",
      "\n"
     ]
    }
   ],
   "source": [
    "# code lab 3 bài 4 làm ở đây\n",
    "n = int(input(\"Nhập một số để in bảng cửu chương: \"))\n",
    "print(\"Bảng cửu chương của\", n)\n",
    "for i in range(1, 11):\n",
    "    print(\"%d x %d = %d\" % (n, i, n * i))\n",
    "print(\"Bảng cửu chương từ 1 đến 9\")\n",
    "for j in range(1, 11): \n",
    "    for i in range(1, 10):\n",
    "        print(\"%2d x %d = %-2d\" % (i, j, i * j), end=\"\\t\")\n",
    "    print()\n",
    "print()"
   ]
  },
  {
   "cell_type": "markdown",
   "id": "e2b41d4a",
   "metadata": {},
   "source": [
    "## Lab 3 - Bài 5: bài tập làm thêm"
   ]
  },
  {
   "cell_type": "code",
   "execution_count": null,
   "id": "0e0172f7",
   "metadata": {},
   "outputs": [],
   "source": [
    "# code lab 3  bài làm thêm ở đây \n"
   ]
  }
 ],
 "metadata": {
  "kernelspec": {
   "display_name": ".venv (3.13.4)",
   "language": "python",
   "name": "python3"
  },
  "language_info": {
   "codemirror_mode": {
    "name": "ipython",
    "version": 3
   },
   "file_extension": ".py",
   "mimetype": "text/x-python",
   "name": "python",
   "nbconvert_exporter": "python",
   "pygments_lexer": "ipython3",
   "version": "3.13.4"
  }
 },
 "nbformat": 4,
 "nbformat_minor": 5
}
