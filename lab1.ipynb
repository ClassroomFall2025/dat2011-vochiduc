{
 "cells": [
  {
   "cell_type": "markdown",
   "id": "fdeff819",
   "metadata": {},
   "source": [
    "# Sinh Viên thực hiện Lab 1 ở Đây"
   ]
  },
  {
   "cell_type": "markdown",
   "id": "acc5d7dc",
   "metadata": {},
   "source": [
    "## Lab 1 - Bài 1"
   ]
  },
  {
   "cell_type": "code",
   "execution_count": null,
   "id": "001e0507",
   "metadata": {},
   "outputs": [],
   "source": [
    "# Code lab 1 bài 1 ở đây\n",
    "print(\"Hello\")\n",
    "print(\"Toi la Duc \")\n",
    "print(\"Toi o Long An cu\")"
   ]
  },
  {
   "cell_type": "markdown",
   "id": "c0835310",
   "metadata": {},
   "source": [
    "## Lab 1 - Bài 2"
   ]
  },
  {
   "cell_type": "code",
   "execution_count": null,
   "id": "fa9cb39f",
   "metadata": {},
   "outputs": [],
   "source": [
    "# Code lab 1  bài 2 ở đây\n",
    "chieu_dai = int(input(\"nhap chieu dai: \"))\n",
    "chieu_rong = int(input(\"nhap chieu rong: \"))\n",
    "chu_vi = (chieu_dai + chieu_rong) * 2\n",
    "dien_tich = chieu_dai * chieu_rong\n",
    "print(\"chu vi la: \", chu_vi)\n",
    "print(\"dien tich la: \", dien_tich)"
   ]
  },
  {
   "cell_type": "markdown",
   "id": "0f2483fe",
   "metadata": {},
   "source": [
    "## Lab 1 - Bài 3"
   ]
  },
  {
   "cell_type": "code",
   "execution_count": null,
   "id": "7034990b",
   "metadata": {},
   "outputs": [],
   "source": [
    "# Code lab 1  bài 3 ở đây\n",
    "song = \"Sống\" \n",
    "print(\"\\\"...\")\n",
    "print(f\"{song} Không giận, không hờn không oán trách\")\n",
    "print(f\"{song} mỉm cười, với thử thách chông gai\")\n",
    "print(f\"{song} vươn lên, theo kịp ánh ban mai \")\n",
    "print(f\"{song} chan hòa, với những người chung sống\")\n",
    "print()\n",
    "print(f\"{song} là động, nhưng lòng luôn bất động\")\n",
    "print(f\"{song} là thương, nhưng lòng chẳng vấn vương\")\n",
    "print(f\"{song} yênh vui, danh lợi mãi coi thường\")\n",
    "print(\"Tâm bất biến, giữa dòng đời vạn biến.\")\n",
    "print(\"...\\\"\")\n"
   ]
  },
  {
   "cell_type": "markdown",
   "id": "d36ea3d3",
   "metadata": {},
   "source": [
    "## Lab 1 - Bài 4"
   ]
  },
  {
   "cell_type": "code",
   "execution_count": null,
   "id": "4c707ec1",
   "metadata": {},
   "outputs": [],
   "source": [
    "# code lab 1 bài 4 ở đây\n",
    "import math\n",
    "a = float(input(\"Nhập hệ số a: \"))\n",
    "b = float(input(\"Nhập hệ số b: \"))\n",
    "c = float(input(\"Nhập hệ số c: \"))\n",
    "delta = b * b - 4 * a * c\n",
    "print(\"Delta: \", abs(delta))\n",
    "print(\"căn bậc 2 của delta là: \", math.sqrt(abs(delta)))\n",
    "print(\"tét\")"
   ]
  },
  {
   "cell_type": "markdown",
   "id": "e2b41d4a",
   "metadata": {},
   "source": [
    "## Lab 1 - Bài 5: bài tập làm thêm"
   ]
  },
  {
   "cell_type": "code",
   "execution_count": null,
   "id": "0e0172f7",
   "metadata": {},
   "outputs": [],
   "source": [
    "# code lab 1  bài làm thêm ở đây \n"
   ]
  }
 ],
 "metadata": {
  "kernelspec": {
   "display_name": "Python 3",
   "language": "python",
   "name": "python3"
  },
  "language_info": {
   "name": "python",
   "version": "3.13.2"
  }
 },
 "nbformat": 4,
 "nbformat_minor": 5
}
