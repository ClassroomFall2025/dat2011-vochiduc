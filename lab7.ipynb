{
 "cells": [
  {
   "cell_type": "markdown",
   "id": "fdeff819",
   "metadata": {},
   "source": [
    "# Sinh Viên thực hiện Lab 7 ở Đây"
   ]
  },
  {
   "cell_type": "code",
   "execution_count": 2,
   "id": "001e0507",
   "metadata": {},
   "outputs": [
    {
     "name": "stdout",
     "output_type": "stream",
     "text": [
      "Tự nguyện\n",
      "Trương Quốc Khánh\n",
      "Nếu là chim, tôi sẽ là loài bồ câu trắng\n",
      "Nếu là hoa, tôi sẽ là một đóa hướng dương\n",
      "Nếu là mây, tôi sẽ là một vầng mây ấm\n",
      "Là người, tôi sẽ chết cho quê hương.\n",
      "\n",
      "Là chim, tôi sẽ cất cao đôi cánh mềm\n",
      "Từ nam ra ngoài bắc báo tin nối liền\n",
      "Là hoa, tôi nở tình yêu ban sớm\n",
      "Cùng muôn trái tim ngất ngây hoà bình.\n",
      "\n",
      "Là mây, theo làn gió tung bay khắp trời\n",
      "Nghìn xưa oai hùng đó tôi xin tiếp lời\n",
      "Là người, xin một lần khi nằm xuống\n",
      "Nhìn anh em đứng lên phất cao ngọn cờ.\n"
     ]
    }
   ],
   "source": [
    "# Code lab 7 bài 1 ở đây\n",
    "file = open(\"Resource.txt\", \"r\", encoding=\"utf-8\")\n",
    "noidung = file.read()\n",
    "print(noidung)\n",
    "file.close()"
   ]
  },
  {
   "cell_type": "markdown",
   "id": "c0835310",
   "metadata": {},
   "source": [
    "## Lab 7 - Bài 2"
   ]
  },
  {
   "cell_type": "code",
   "execution_count": 2,
   "id": "fa9cb39f",
   "metadata": {},
   "outputs": [
    {
     "name": "stdout",
     "output_type": "stream",
     "text": [
      "Đã ghi nội dung thành công\n"
     ]
    }
   ],
   "source": [
    "# Code lab 7  bài 2 ở đây\n",
    "noi_dung = \"\"\"…\n",
    "Nếu một mai tôi có bay lên trời \n",
    "Thì người ơi tôi đã sống rất thảnh thơi \n",
    "Nếu một mai tôi có đi qua đời \n",
    "Thì người ơi tôi đã sống rất tuyệt vời \n",
    "…\"\"\"\n",
    "with open(\" Lab7-Exercise2.txt\", \"w\", encoding=\"utf-8\") as f:\n",
    "    f.write(noi_dung)\n",
    "    print(\"Đã ghi nội dung thành công\")\n"
   ]
  },
  {
   "cell_type": "markdown",
   "id": "0f2483fe",
   "metadata": {},
   "source": [
    "## Lab 7 - Bài 3"
   ]
  },
  {
   "cell_type": "code",
   "execution_count": 4,
   "id": "7034990b",
   "metadata": {},
   "outputs": [
    {
     "name": "stdout",
     "output_type": "stream",
     "text": [
      "\n",
      "Nhập thông tin bài thơ thứ 1:\n",
      "Tiêu đề: Bạc phận \n",
      "Tác giả: đức \n",
      "Năm sáng tác: 2000\n",
      "\n",
      "Nhập thông tin bài thơ thứ 2:\n",
      "Tiêu đề: Hồng nhan\n",
      "Tác giả: Đức \n",
      "Năm sáng tác: 2001\n",
      "\n",
      "Nhập thông tin bài thơ thứ 3:\n",
      "Tiêu đề: Sóng gió \n",
      "Tác giả: Đức \n",
      "Năm sáng tác: @002\n",
      "\n",
      "Nhập thông tin bài thơ thứ 4:\n",
      "Tiêu đề: Lạc trôi \n",
      "Tác giả: Đức \n",
      "Năm sáng tác: 2015\n",
      "\n",
      "Nhập thông tin bài thơ thứ 5:\n",
      "Tiêu đề: Hãy trao cho anh\n",
      "Tác giả: Dức\n",
      "Năm sáng tác: @025\n",
      "\n",
      "Đã ghi thông tin 5 bài thơ vào file 'baitho.csv' thành công\n"
     ]
    }
   ],
   "source": [
    "# Code lab 7  bài 3 ở đây\n",
    "import csv\n",
    "with open(\"baitho.csv\", \"w\", newline=\"\", encoding=\"utf-8\") as file:\n",
    "    writer = csv.writer(file)\n",
    "    writer.writerow([\"Tựa đề\", \"Tác giả\", \"Năm suất bản\"])\n",
    "    for i in range(1, 6):\n",
    "        print(f\"\\nNhập thông tin bài thơ thứ {i}:\")\n",
    "        tieu_de = input(\"Tiêu đề: \")\n",
    "        print(\"Tiêu đề:\", tieu_de)\n",
    "        tac_gia = input(\"Tác giả: \")\n",
    "        print(\"Tác giả:\", tac_gia)\n",
    "        nam_sang_tac = input(\"Năm sáng tác: \")\n",
    "        print(\"Năm sáng tác:\", nam_sang_tac)\n",
    "        writer.writerow([tieu_de, tac_gia, nam_sang_tac])\n",
    "\n",
    "print(\"\\nĐã ghi thông tin 5 bài thơ vào file 'baitho.csv' thành công\")\n"
   ]
  },
  {
   "cell_type": "markdown",
   "id": "d36ea3d3",
   "metadata": {},
   "source": [
    "## Lab 7 - Bài 4"
   ]
  },
  {
   "cell_type": "code",
   "execution_count": 7,
   "id": "4c707ec1",
   "metadata": {},
   "outputs": [
    {
     "name": "stdout",
     "output_type": "stream",
     "text": [
      "['Tự nguyện', 'Trương Quốc Khánh', 'Nếu là chim, tôi sẽ là loài bồ câu trắng', 'Nếu là hoa, tôi sẽ là một đóa hướng dương', 'Nếu là mây, tôi sẽ là một vầng mây ấm', 'Là người, tôi sẽ chết cho quê hương.', '', 'Là chim, tôi sẽ cất cao đôi cánh mềm', 'Từ nam ra ngoài bắc báo tin nối liền', 'Là hoa, tôi nở tình yêu ban sớm', 'Cùng muôn trái tim ngất ngây hoà bình.', '', 'Là mây, theo làn gió tung bay khắp trời', 'Nghìn xưa oai hùng đó tôi xin tiếp lời', 'Là người, xin một lần khi nằm xuống', 'Nhìn anh em đứng lên phất cao ngọn cờ.']\n"
     ]
    }
   ],
   "source": [
    "# code lab 7 bài 4 ở đây\n",
    "with open(\"Resource.txt\", \"r\", encoding=\"utf-8\") as file:\n",
    "    noi_dung = [dong.strip() for dong in file.readlines()]\n",
    "    print(noi_dung)\n",
    "    noi_dung_moi = []\n",
    "    kho_tho = []\n",
    "    for dong in noi_dung [2:]:\n",
    "        if dong == \"\":\n",
    "            noi_dung_moi.append(kho_tho)\n",
    "            kho_tho = []\n",
    "        else:\n",
    "            kho_tho.append(dong)\n",
    "    noi_dung_moi.append(kho_tho)\n",
    "\n",
    "with open(\"Resource.xml\", \"w\", encoding=\"utf-8\") as file1:\n",
    "    file1.write(\"<songs>\")\n",
    "    file1.write(\"\\t<song>\")\n",
    "    file1.write(f\"\\t\\t<name>{noi_dung[0]}</name>\")\n",
    "    file1.write(f\"\\t\\t<author>{noi_dung[1]}</author>\")\n",
    "    for phan_tu in noi_dung_moi:\n",
    "        file1.write(f\"\\t\\t<section>\")\n",
    "        file1.write(f\"\\t\\t{phan_tu}\")\n",
    "        file1.write(f\"\\t\\t</section>\\n\")\n",
    "\n",
    "    file1.write(\"\\t</song>\")\n",
    "    file1.write(\"</songs>\")\n",
    "\n"
   ]
  },
  {
   "cell_type": "markdown",
   "id": "e2b41d4a",
   "metadata": {},
   "source": [
    "## Lab 7 - Bài 5: bài tập làm thêm"
   ]
  },
  {
   "cell_type": "code",
   "execution_count": null,
   "id": "0e0172f7",
   "metadata": {},
   "outputs": [],
   "source": [
    "# code lab 7  bài làm thêm ở đây "
   ]
  }
 ],
 "metadata": {
  "kernelspec": {
   "display_name": "Python 3",
   "language": "python",
   "name": "python3"
  },
  "language_info": {
   "codemirror_mode": {
    "name": "ipython",
    "version": 3
   },
   "file_extension": ".py",
   "mimetype": "text/x-python",
   "name": "python",
   "nbconvert_exporter": "python",
   "pygments_lexer": "ipython3",
   "version": "3.13.4"
  }
 },
 "nbformat": 4,
 "nbformat_minor": 5
}
