{
 "cells": [
  {
   "cell_type": "markdown",
   "id": "fdeff819",
   "metadata": {},
   "source": [
    "# Sinh Viên thực hiện Lab 7 ở Đây"
   ]
  },
  {
   "cell_type": "code",
   "execution_count": 1,
   "id": "001e0507",
   "metadata": {},
   "outputs": [
    {
     "name": "stdout",
     "output_type": "stream",
     "text": [
      "Tự nguyện\n",
      "Trương Quốc Khánh\n",
      "Nếu là chim, tôi sẽ là loài bồ câu trắng\n",
      "Nếu là hoa, tôi sẽ là một đóa hướng dương\n",
      "Nếu là mây, tôi sẽ là một vầng mây ấm\n",
      "Là người, tôi sẽ chết cho quê hương.\n",
      "\n",
      "Là chim, tôi sẽ cất cao đôi cánh mềm\n",
      "Từ nam ra ngoài bắc báo tin nối liền\n",
      "Là hoa, tôi nở tình yêu ban sớm\n",
      "Cùng muôn trái tim ngất ngây hoà bình.\n",
      "\n",
      "Là mây, theo làn gió tung bay khắp trời\n",
      "Nghìn xưa oai hùng đó tôi xin tiếp lời\n",
      "Là người, xin một lần khi nằm xuống\n",
      "Nhìn anh em đứng lên phất cao ngọn cờ.\n"
     ]
    }
   ],
   "source": [
    "# Code lab 7 bài 1 ở đây\n",
    "file = open(\"Resource.txt\", \"r\", encoding=\"utf-8\")\n",
    "noidung = file.read()\n",
    "print(noidung)\n",
    "file.close()"
   ]
  },
  {
   "cell_type": "markdown",
   "id": "c0835310",
   "metadata": {},
   "source": [
    "## Lab 7 - Bài 2"
   ]
  },
  {
   "cell_type": "code",
   "execution_count": 1,
   "id": "fa9cb39f",
   "metadata": {},
   "outputs": [
    {
     "name": "stdout",
     "output_type": "stream",
     "text": [
      "Dòng 1: Tự nguyện\n",
      "Dòng 2: Trương Quốc Khánh\n",
      "Dòng 3: Nếu là chim, tôi sẽ là loài bồ câu trắng\n",
      "Dòng 4: Nếu là hoa, tôi sẽ là một đóa hướng dương\n",
      "Dòng 5: Nếu là mây, tôi sẽ là một vầng mây ấm\n",
      "Dòng 6: Là người, tôi sẽ chết cho quê hương.\n",
      "Dòng 7: \n",
      "Dòng 8: Là chim, tôi sẽ cất cao đôi cánh mềm\n",
      "Dòng 9: Từ nam ra ngoài bắc báo tin nối liền\n",
      "Dòng 10: Là hoa, tôi nở tình yêu ban sớm\n",
      "Dòng 11: Cùng muôn trái tim ngất ngây hoà bình.\n",
      "Dòng 12: \n",
      "Dòng 13: Là mây, theo làn gió tung bay khắp trời\n",
      "Dòng 14: Nghìn xưa oai hùng đó tôi xin tiếp lời\n",
      "Dòng 15: Là người, xin một lần khi nằm xuống\n",
      "Dòng 16: Nhìn anh em đứng lên phất cao ngọn cờ.\n"
     ]
    }
   ],
   "source": [
    "# Code lab 7  bài 2 ở đây\n",
    "# đọc từng dòng một và đếm số dòng\n",
    "with open(\"Resource.txt\", \"r\", encoding=\"utf-8\") as file:\n",
    "    count = 0\n",
    "    for line in file:\n",
    "        count += 1\n",
    "        print(f\"Dòng {count}: {line.strip()}\")"
   ]
  },
  {
   "cell_type": "markdown",
   "id": "0f2483fe",
   "metadata": {},
   "source": [
    "## Lab 7 - Bài 3"
   ]
  },
  {
   "cell_type": "code",
   "execution_count": null,
   "id": "7034990b",
   "metadata": {},
   "outputs": [],
   "source": [
    "# Code lab 7  bài 3 ở đây"
   ]
  },
  {
   "cell_type": "markdown",
   "id": "d36ea3d3",
   "metadata": {},
   "source": [
    "## Lab 7 - Bài 4"
   ]
  },
  {
   "cell_type": "code",
   "execution_count": null,
   "id": "4c707ec1",
   "metadata": {},
   "outputs": [],
   "source": [
    "# code lab 7 bài 4 ở đây"
   ]
  },
  {
   "cell_type": "markdown",
   "id": "e2b41d4a",
   "metadata": {},
   "source": [
    "## Lab 7 - Bài 5: bài tập làm thêm"
   ]
  },
  {
   "cell_type": "code",
   "execution_count": null,
   "id": "0e0172f7",
   "metadata": {},
   "outputs": [],
   "source": [
    "# code lab 7  bài làm thêm ở đây "
   ]
  }
 ],
 "metadata": {
  "kernelspec": {
   "display_name": "Python 3",
   "language": "python",
   "name": "python3"
  },
  "language_info": {
   "codemirror_mode": {
    "name": "ipython",
    "version": 3
   },
   "file_extension": ".py",
   "mimetype": "text/x-python",
   "name": "python",
   "nbconvert_exporter": "python",
   "pygments_lexer": "ipython3",
   "version": "3.13.4"
  }
 },
 "nbformat": 4,
 "nbformat_minor": 5
}
