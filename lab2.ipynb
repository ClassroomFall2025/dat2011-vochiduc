{
 "cells": [
  {
   "cell_type": "markdown",
   "id": "fdeff819",
   "metadata": {},
   "source": [
    "# Sinh Viên thực hiện Lab 2 ở Đây"
   ]
  },
  {
   "cell_type": "markdown",
   "id": "acc5d7dc",
   "metadata": {},
   "source": [
    "## Lab 2 - Bài 1"
   ]
  },
  {
   "cell_type": "code",
   "execution_count": 1,
   "id": "001e0507",
   "metadata": {},
   "outputs": [
    {
     "name": "stdout",
     "output_type": "stream",
     "text": [
      "Bài thơ:  \n",
      "            Kiếp con người mỏng manh như là gió\n",
      "            Sống trên đời có được mấy lần vui\n",
      "            Sao phải đau mà không thể mỉm cười\n",
      "            Gắng buông nỗi ngậm ngùi nơi quá khứ\n",
      "\n",
      "            Nếu có thể sao ta không làm thử\n",
      "            Để tâm hồn khắc hai chữ bình an\n",
      "            Cho đôi chân bước thanh thản nhẹ nhàng\n",
      "            Dù hướng đời có muôn ngàn đá sỏi\n",
      "\n",
      "Kiểm tra 'con người' có trong bài thơ:  True\n",
      "Từ trích ra:  con người\n",
      "Chuyển từ \"con người\" thành chữ hoa:  CON NGƯỜI\n"
     ]
    }
   ],
   "source": [
    "# Code lab 2 bài 1 ở đây\n",
    "baiTho = '''\n",
    "            Kiếp con người mỏng manh như là gió\n",
    "            Sống trên đời có được mấy lần vui\n",
    "            Sao phải đau mà không thể mỉm cười\n",
    "            Gắng buông nỗi ngậm ngùi nơi quá khứ\n",
    "\n",
    "            Nếu có thể sao ta không làm thử\n",
    "            Để tâm hồn khắc hai chữ bình an\n",
    "            Cho đôi chân bước thanh thản nhẹ nhàng\n",
    "            Dù hướng đời có muôn ngàn đá sỏi\n",
    "'''\n",
    "print(\"Bài thơ: \", baiTho)\n",
    "print(\"Kiểm tra 'con người' có trong bài thơ: \", 'con người' in baiTho)\n",
    "index_1 = baiTho.find('con người')\n",
    "len_con_nguoi = len('con người')\n",
    "index_2 = index_1 + len_con_nguoi\n",
    "trich_xuat_con_nguoi = baiTho[index_1:index_2]\n",
    "print(\"Từ trích ra: \", trich_xuat_con_nguoi)\n",
    "print('Chuyển từ \"con người\" thành chữ hoa: ', trich_xuat_con_nguoi.upper())"
   ]
  },
  {
   "cell_type": "markdown",
   "id": "c0835310",
   "metadata": {},
   "source": [
    "## Lab 2 - Bài 2"
   ]
  },
  {
   "cell_type": "code",
   "execution_count": 2,
   "id": "fa9cb39f",
   "metadata": {},
   "outputs": [
    {
     "name": "stdout",
     "output_type": "stream",
     "text": [
      "...\n",
      "            Kiếp con người mỏng manh như là gió\n",
      "            Sống trên đời có được mấy lần vui\n",
      "            Sao phải đau mà không thể mỉm cười\n",
      "            Gắng buông nỗi ngậm ngùi nơi quá khứ\n",
      "\n",
      "            Nếu có thể sao ta không làm thử\n",
      "            Để tâm hồn khắc hai chữ hạnh phúc\n",
      "            Cho đôi chân bước thanh thản nhẹ nhàng\n",
      "            Dù hướng đời có muôn ngàn đá sỏi\n",
      "...\n"
     ]
    }
   ],
   "source": [
    "# Code lab 2  bài 2 ở đây\n",
    "# Code lab 2  bài 2 ở đây\n",
    "tho1 = '''\n",
    "            Kiếp con người mỏng manh như là gió\n",
    "            Sống trên đời có được mấy lần vui\n",
    "            Sao phải đau mà không thể mỉm cười\n",
    "            Gắng buông nỗi ngậm ngùi nơi quá khứ\n",
    "\n",
    "            Nếu có thể sao ta không làm thử\n",
    "            Để tâm hồn khắc hai chữ bình an\n",
    "            Cho đôi chân bước thanh thản nhẹ nhàng\n",
    "            Dù hướng đời có muôn ngàn đá sỏi\n",
    "'''\n",
    "tho2 = tho1.replace(\"bình an\", \"hạnh phúc\")\n",
    "tho2 = \"...\" + tho2 + \"...\"\n",
    "print(tho2)"
   ]
  },
  {
   "cell_type": "markdown",
   "id": "0f2483fe",
   "metadata": {},
   "source": [
    "## Lab 2 - Bài 3"
   ]
  },
  {
   "cell_type": "code",
   "execution_count": null,
   "id": "7034990b",
   "metadata": {},
   "outputs": [],
   "source": [
    "# Code lab 2  bài 3 ở đây\n",
    "a = float(input(\"Nhập số a: \"))\n",
    "b = float(input(\"Nhập số b: \"))\n",
    "phuong_trinh = f\"{a}x + {b} = 0\"\n",
    "if a==0:\n",
    "    if b==0:\n",
    "        print(\"Phương trình vô số nghiệm\")\n",
    "    else:\n",
    "        print(\"Phương trình vô nghiệm\")\n",
    "else:\n",
    "    x = -b/a\n",
    "    print(\"Phương trình có nghiệm x = \", x)"
   ]
  },
  {
   "cell_type": "markdown",
   "id": "d36ea3d3",
   "metadata": {},
   "source": [
    "## Lab 2 - Bài 4"
   ]
  },
  {
   "cell_type": "code",
   "execution_count": null,
   "id": "4c707ec1",
   "metadata": {},
   "outputs": [],
   "source": [
    "# code lab 2 bài 4 ở đây\n",
    "import math\n",
    "a = int(input(\"Nhập số a: \"))\n",
    "b = int(input(\"Nhập số b: \"))\n",
    "c = int(input(\"Nhập số c: \"))\n",
    "if a==0:\n",
    "    phương_trình_bậc_nhất = f\"{b}x + {c} = 0\"\n",
    "    x = -c/b\n",
    "    print(\"Phương trình có nghiệm x = \", x)\n",
    "elif a != 0:\n",
    "    phương_trình_bậc_hai = f\"{a}x^2 + {b}x + {c} = 0\"\n",
    "    delta = b**2 - 4*a*c\n",
    "    if delta < 0:\n",
    "        print(\"Phương trình vô nghiệm\")\n",
    "    elif delta == 0:\n",
    "        x = -b/(2*a)\n",
    "        print(\"Phương trình có nghiệm kép x1 = x2 = \", x)\n",
    "    else:\n",
    "        x1 = (-b + math.sqrt(delta)) / (2*a)\n",
    "        x2 = (-b - math.sqrt(delta)) / (2*a)\n",
    "        print(\"Phương trình có hai nghiệm phân biệt: \")\n",
    "        print(\"x1 = \", x1)\n",
    "        print(\"x2 = \", x2)"
   ]
  },
  {
   "cell_type": "markdown",
   "id": "e2b41d4a",
   "metadata": {},
   "source": [
    "## Lab 2 - Bài 5: bài tập làm thêm"
   ]
  },
  {
   "cell_type": "code",
   "execution_count": null,
   "id": "0e0172f7",
   "metadata": {},
   "outputs": [],
   "source": [
    "# code lab 2  bài làm thêm ở đây "
   ]
  }
 ],
 "metadata": {
  "kernelspec": {
   "display_name": "Python 3",
   "language": "python",
   "name": "python3"
  },
  "language_info": {
   "codemirror_mode": {
    "name": "ipython",
    "version": 3
   },
   "file_extension": ".py",
   "mimetype": "text/x-python",
   "name": "python",
   "nbconvert_exporter": "python",
   "pygments_lexer": "ipython3",
   "version": "3.13.4"
  }
 },
 "nbformat": 4,
 "nbformat_minor": 5
}
