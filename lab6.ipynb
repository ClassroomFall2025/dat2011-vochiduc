{
 "cells": [
  {
   "cell_type": "markdown",
   "id": "fdeff819",
   "metadata": {},
   "source": [
    "# Sinh Viên thực hiện Lab 6 ở Đây"
   ]
  },
  {
   "cell_type": "markdown",
   "id": "acc5d7dc",
   "metadata": {},
   "source": [
    "## Lab 6 - Bài 1"
   ]
  },
  {
   "cell_type": "code",
   "execution_count": 1,
   "id": "001e0507",
   "metadata": {},
   "outputs": [
    {
     "name": "stdout",
     "output_type": "stream",
     "text": [
      "chiều dài hình chữ nhật :5\n",
      "chiều rộng hình chữ nhật :10\n",
      "chu vi hình chữ nhật :30\n",
      "diện tích hình chữ nhật :50\n",
      "cạnh hình vuông :5\n",
      "chu vi hình vuông :20\n",
      "diện tích hình vuông :25\n"
     ]
    }
   ],
   "source": [
    "# Code lab 6 bài 1 ở đây\n",
    "from hinh import hinh, hinhvuong\n",
    "cn = hinh(5, 10)\n",
    "hv = hinhvuong(5)\n",
    "cn.xuat()\n",
    "hv.xuat()\n"
   ]
  },
  {
   "cell_type": "markdown",
   "id": "c0835310",
   "metadata": {},
   "source": [
    "## Lab 6 - Bài 2"
   ]
  },
  {
   "cell_type": "code",
   "execution_count": null,
   "id": "fa9cb39f",
   "metadata": {},
   "outputs": [],
   "source": [
    "# Code lab 6  bài 2 ở đây"
   ]
  },
  {
   "cell_type": "markdown",
   "id": "0f2483fe",
   "metadata": {},
   "source": [
    "## Lab 6 - Bài 3"
   ]
  },
  {
   "cell_type": "code",
   "execution_count": null,
   "id": "7034990b",
   "metadata": {},
   "outputs": [],
   "source": [
    "# Code lab 6  bài 3 ở đây"
   ]
  },
  {
   "cell_type": "markdown",
   "id": "d36ea3d3",
   "metadata": {},
   "source": [
    "## Lab 6 - Bài 4"
   ]
  },
  {
   "cell_type": "code",
   "execution_count": 1,
   "id": "4c707ec1",
   "metadata": {},
   "outputs": [
    {
     "name": "stdout",
     "output_type": "stream",
     "text": [
      "\n",
      "===== MENU QUẢN LÝ SINH VIÊN =====\n",
      "1. Nhập danh sách sinh viên\n",
      "2. Xuất thông tin danh sách sinh viên\n",
      "3. Xuất danh sách sinh viên có học lực giỏi\n",
      "4. Sắp xếp danh sách sinh viên theo điểm\n",
      "5. Kết thúc\n",
      "Danh sách trống.\n",
      "\n",
      "===== MENU QUẢN LÝ SINH VIÊN =====\n",
      "1. Nhập danh sách sinh viên\n",
      "2. Xuất thông tin danh sách sinh viên\n",
      "3. Xuất danh sách sinh viên có học lực giỏi\n",
      "4. Sắp xếp danh sách sinh viên theo điểm\n",
      "5. Kết thúc\n",
      " Loại sinh viên không hợp lệ!\n",
      " Đã thêm sinh viên thành công!\n",
      "\n",
      "===== MENU QUẢN LÝ SINH VIÊN =====\n",
      "1. Nhập danh sách sinh viên\n",
      "2. Xuất thông tin danh sách sinh viên\n",
      "3. Xuất danh sách sinh viên có học lực giỏi\n",
      "4. Sắp xếp danh sách sinh viên theo điểm\n",
      "5. Kết thúc\n",
      "Kết thúc chương trình.\n",
      "\n",
      "===== MENU QUẢN LÝ SINH VIÊN =====\n",
      "1. Nhập danh sách sinh viên\n",
      "2. Xuất thông tin danh sách sinh viên\n",
      "3. Xuất danh sách sinh viên có học lực giỏi\n",
      "4. Sắp xếp danh sách sinh viên theo điểm\n",
      "5. Kết thúc\n",
      "Kết thúc chương trình.\n"
     ]
    }
   ],
   "source": [
    "# code lab 6 bài 4 ở đây\n",
    "from sinhvien import QuanLySinhVien\n",
    "\n",
    "ql = QuanLySinhVien()\n",
    "\n",
    "menu = {\n",
    "    \"1\": \"Nhập danh sách sinh viên\",\n",
    "    \"2\": \"Xuất thông tin danh sách sinh viên\",\n",
    "    \"3\": \"Xuất danh sách sinh viên có học lực giỏi\",\n",
    "    \"4\": \"Sắp xếp danh sách sinh viên theo điểm\",\n",
    "    \"5\": \"Kết thúc\"\n",
    "}\n",
    "\n",
    "while True:\n",
    "    print(\"\\n===== MENU QUẢN LÝ SINH VIÊN =====\")\n",
    "    for k, v in menu.items():\n",
    "        print(f\"{k}. {v}\")\n",
    "\n",
    "    lua_chon = input(\"Nhập lựa chọn: \")\n",
    "\n",
    "    match lua_chon:\n",
    "        case \"1\":\n",
    "            ql.nhap_sinh_vien()\n",
    "        case \"2\":\n",
    "            ql.xuat_ds()\n",
    "        case \"3\":\n",
    "            ql.xuat_sv_gioi()\n",
    "        case \"4\":\n",
    "            ql.sap_xep_theo_diem()\n",
    "        case \"5\":\n",
    "            print(\"Kết thúc chương trình.\")\n",
    "            break\n",
    "        case _:\n",
    "            print(\"Lựa chọn không hợp lệ, vui lòng nhập lại.\")\n",
    "            print([sv.TenSinhVien for sv in ql.danh_sach])"
   ]
  },
  {
   "cell_type": "markdown",
   "id": "e2b41d4a",
   "metadata": {},
   "source": [
    "## Lab 6 - Bài 5: bài tập làm thêm"
   ]
  },
  {
   "cell_type": "code",
   "execution_count": null,
   "id": "0e0172f7",
   "metadata": {},
   "outputs": [],
   "source": [
    "# code lab 6  bài làm thêm ở đây "
   ]
  }
 ],
 "metadata": {
  "kernelspec": {
   "display_name": "Python 3",
   "language": "python",
   "name": "python3"
  },
  "language_info": {
   "codemirror_mode": {
    "name": "ipython",
    "version": 3
   },
   "file_extension": ".py",
   "mimetype": "text/x-python",
   "name": "python",
   "nbconvert_exporter": "python",
   "pygments_lexer": "ipython3",
   "version": "3.13.4"
  }
 },
 "nbformat": 4,
 "nbformat_minor": 5
}
