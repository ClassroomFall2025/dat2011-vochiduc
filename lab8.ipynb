{
 "cells": [
  {
   "cell_type": "markdown",
   "id": "fdeff819",
   "metadata": {},
   "source": [
    "# Sinh Viên thực hiện Lab 8 ở Đây"
   ]
  },
  {
   "cell_type": "markdown",
   "id": "acc5d7dc",
   "metadata": {},
   "source": [
    "## Lab 8 - Bài 1"
   ]
  },
  {
   "cell_type": "code",
   "execution_count": 2,
   "id": "001e0507",
   "metadata": {},
   "outputs": [],
   "source": [
    "# Code lab 8 bài 1 ở đây\n",
    "import statistics\n",
    "def doc_du_lieu(ten_file):\n",
    "    \"\"\"Đọc file và trả về danh sách các số nguyên.\"\"\"\n",
    "    with open(ten_file, \"r\") as f:\n",
    "        du_lieu = f.read().split()\n",
    "    return list(map(int, du_lieu))\n",
    "\n",
    "def tinh_thong_ke(du_lieu):\n",
    "    \"\"\"Tính trung bình và độ lệch chuẩn của dữ liệu.\"\"\"\n",
    "    trung_binh = statistics.mean(du_lieu)\n",
    "    do_lech_chuan = statistics.stdev(du_lieu)\n",
    "    return trung_binh, do_lech_chuan\n",
    "\n",
    "def doc_du_lieu_iterator(ten_file):\n",
    "    \"\"\"Dùng iterator để đọc từng phần tử (cho dữ liệu lớn).\"\"\"\n",
    "    with open(ten_file, \"r\") as f:\n",
    "        for so in f.read().split():\n",
    "            yield int(so)"
   ]
  },
  {
   "cell_type": "markdown",
   "id": "c0835310",
   "metadata": {},
   "source": [
    "## Lab 8 - Bài 2"
   ]
  },
  {
   "cell_type": "code",
   "execution_count": 3,
   "id": "fa9cb39f",
   "metadata": {},
   "outputs": [],
   "source": [
    "# Code lab 8  bài 2 ở đây\n",
    "from kiemtra import nhap_thong_tin_sinh_vien, kiem_tra_thong_tin\n",
    "def main():\n",
    "    sinh_vien = nhap_thong_tin_sinh_vien()\n",
    "    kiem_tra_thong_tin(sinh_vien)"
   ]
  },
  {
   "cell_type": "markdown",
   "id": "0f2483fe",
   "metadata": {},
   "source": [
    "## Lab 8 - Bài 3"
   ]
  },
  {
   "cell_type": "code",
   "execution_count": 4,
   "id": "7034990b",
   "metadata": {},
   "outputs": [
    {
     "name": "stdout",
     "output_type": "stream",
     "text": [
      "Đã tạo và ghi thành công\n"
     ]
    }
   ],
   "source": [
    "# Code lab 8  bài 3 ở đây\n",
    "import random\n",
    "so_ngau_nhien = [str(random.randint(0, 100)) for _ in range(1_000_000)]\n",
    "with open(\"so_ngau_nhien.txt\", \"w\") as file:\n",
    "    file.write(\" \".join(so_ngau_nhien))\n",
    "\n",
    "print(\"Đã tạo và ghi thành công\")"
   ]
  },
  {
   "cell_type": "markdown",
   "id": "d36ea3d3",
   "metadata": {},
   "source": [
    "## Lab 8 - Bài 4"
   ]
  },
  {
   "cell_type": "code",
   "execution_count": null,
   "id": "4c707ec1",
   "metadata": {},
   "outputs": [],
   "source": [
    "# code lab 8 bài 4 ở đây\n",
    "from tinh_toan_thong_ke import doc_du_lieu, tinh_thong_ke\n",
    "# Cách 1:\n",
    "ten_file = \"so_ngau_nhien.txt\"\n",
    "du_lieu = doc_du_lieu(ten_file)\n",
    "trung_binh, do_lech_chuan = tinh_thong_ke(du_lieu)\n",
    "print(f\"Trung bình: {trung_binh}\")\n",
    "print(f\"Độ lệch chuẩn: {do_lech_chuan}\")"
   ]
  },
  {
   "cell_type": "markdown",
   "id": "e2b41d4a",
   "metadata": {},
   "source": [
    "## Lab 8 - Bài 5: bài tập làm thêm"
   ]
  },
  {
   "cell_type": "code",
   "execution_count": null,
   "id": "0e0172f7",
   "metadata": {},
   "outputs": [],
   "source": [
    "# code lab 8  bài làm thêm ở đây "
   ]
  }
 ],
 "metadata": {
  "kernelspec": {
   "display_name": "Python 3",
   "language": "python",
   "name": "python3"
  },
  "language_info": {
   "codemirror_mode": {
    "name": "ipython",
    "version": 3
   },
   "file_extension": ".py",
   "mimetype": "text/x-python",
   "name": "python",
   "nbconvert_exporter": "python",
   "pygments_lexer": "ipython3",
   "version": "3.13.4"
  }
 },
 "nbformat": 4,
 "nbformat_minor": 5
}
