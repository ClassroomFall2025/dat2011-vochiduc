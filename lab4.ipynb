{
 "cells": [
  {
   "cell_type": "markdown",
   "id": "fdeff819",
   "metadata": {},
   "source": [
    "# Sinh Viên thực hiện Lab 4 ở Đây"
   ]
  },
  {
   "cell_type": "markdown",
   "id": "acc5d7dc",
   "metadata": {},
   "source": [
    "## Lab 1 - Bài 1"
   ]
  },
  {
   "cell_type": "code",
   "execution_count": null,
   "id": "001e0507",
   "metadata": {},
   "outputs": [],
   "source": [
    "# Code lab 4 bài 1 ở đây\n",
    "def timh_tien_nuoc(so_nuoc):\n",
    "    gia_ban_nuoc = (7500, 8000, 12000, 24000)\n",
    "    if so_nuoc <= 10 and so_nuoc > 0:\n",
    "        tien_nuoc_thang = so_nuoc * gia_ban_nuoc[0]\n",
    "    elif so_nuoc <= 20:\n",
    "        tien_nuoc_thang = 10 * gia_ban_nuoc[0] + (so_nuoc - 10) * gia_ban_nuoc[1]\n",
    "    elif so_nuoc <= 30:\n",
    "        tien_nuoc_thang = 10 * gia_ban_nuoc[0] + 10 * gia_ban_nuoc[1] + (so_nuoc - 20) * gia_ban_nuoc[2]\n",
    "    else:\n",
    "        tien_nuoc_thang = 10 * gia_ban_nuoc[0] + 10 * gia_ban_nuoc[1] + 10 * gia_ban_nuoc[2] + (so_nuoc - 30) * gia_ban_nuoc[3]\n",
    "    return tien_nuoc_thang\n",
    "print(\"Chương trình tính tiền nước sinh hoạt\")\n",
    "so_nuoc = float(input(\"Nhập số nước tiêu thụ trong tháng (m3): \"))\n",
    "tien_nuoc = timh_tien_nuoc(so_nuoc)\n",
    "print(f\"Số tiền nước phải trả trong tháng là: {tien_nuoc} đồng\")\n"
   ]
  },
  {
   "cell_type": "markdown",
   "id": "c0835310",
   "metadata": {},
   "source": [
    "## Lab 4 - Bài 2"
   ]
  },
  {
   "cell_type": "code",
   "execution_count": null,
   "id": "fa9cb39f",
   "metadata": {},
   "outputs": [],
   "source": [
    "# Code lab 4  bài 2 ở đây\n",
    "def tinh_nguyen_lieu(s1_bdx, s2_btc, s3_bd):\n",
    "    banh_dau_xanh = {\"đường\": 0.04, \"đậu\":0.07}\n",
    "    banh_thap_cam = {\"đường\": 0.06 , \"đậu\":0}\n",
    "    banh_dẻo ={\"đường\": 0.05, \"đậu\":0.02}\n",
    "    duong_lam_banh = s1_bdx * banh_dau_xanh[\"đường\"] + s2_btc * banh_thap_cam[\"đường\"] + s3_bd * banh_dẻo[\"đường\"]\n",
    "    dau_lam_banh = s1_bdx * banh_dau_xanh[\"đậu\"] + s2_btc * banh_thap_cam[\"đậu\"] + s3_bd * banh_dẻo[\"đậu\"]\n",
    "    return duong_lam_banh, dau_lam_banh"
   ]
  },
  {
   "cell_type": "markdown",
   "id": "0f2483fe",
   "metadata": {},
   "source": [
    "## Lab 4 - Bài 3"
   ]
  },
  {
   "cell_type": "code",
   "execution_count": null,
   "id": "7034990b",
   "metadata": {},
   "outputs": [],
   "source": [
    "# Code lab 4  bài 3 ở đây\n",
    "try:\n",
    "    #nhập dãy số nguyên từ bàn phím\n",
    "    Nhap_so_nguyen = input(\"Nhập dãy số nguyên, cách nhau bởi dấu phẩy: \")\n",
    "    #chuyển thành các danh sách số nguyên\n",
    "    Danh_sach_so_nguyen = [int(x) for x in Nhap_so_nguyen.split(\",\")]\n",
    "    # sử dụng hàm filter và lambda để lọc các số chẵn\n",
    "    So_chan = list(filter(lambda x: x % 2 == 0, Danh_sach_so_nguyen))\n",
    "    # sử dụng hàm filter và lambda để lọc các số lẻ\n",
    "    So_le = list(filter(lambda x: x % 2 != 0, Danh_sach_so_nguyen))\n",
    "    print(\"Các số chẵn là:\", So_chan)\n",
    "    print(\"Các số lẻ là:\", So_le)\n",
    "except ValueError:\n",
    "    print(\"Vui lòng nhập đúng định dạng dãy số nguyên, cách nhau bởi dấu phẩy.\")\n",
    "    print(\"lỗi: bạn phải nhập số nguyên!\")"
   ]
  },
  {
   "cell_type": "markdown",
   "id": "d36ea3d3",
   "metadata": {},
   "source": [
    "## Lab 4 - Bài 4"
   ]
  },
  {
   "cell_type": "code",
   "execution_count": null,
   "id": "4c707ec1",
   "metadata": {},
   "outputs": [],
   "source": [
    "# code lab 4 bài 4 ở đây\n",
    "menu = \"\"\"\n",
    "1. Tính tiền nước\n",
    "2. Tính nguyên liệu làm bánh\n",
    "3. Thoát\n",
    "\"\"\"\n",
    "\n",
    "def main():\n",
    "    while True:\n",
    "        print(menu)\n",
    "        chon_chuc_nang = input(\"Chọn chức năng (1-3): \")\n",
    "        if chon_chuc_nang == '1':\n",
    "            so_nuoc = int(input(\"Nhập số nước tiêu thụ trong tháng (m3): \"))\n",
    "            tien_nuoc = tinh_tien_nuoc(so_nuoc)\n",
    "            print(f\"Tiền nước tháng này là: {tien_nuoc:,} VND\")\n",
    "        elif chon_chuc_nang == '2':\n",
    "            s1_bdx = int(input(\"Nhập số bánh đậu xanh cần làm: \"))\n",
    "            s2_btc = int(input(\"Nhập số bánh thập cẩm cần làm: \"))\n",
    "            s3_bd = int(input(\"Nhập số bánh dẻo cần làm: \"))\n",
    "            duong, dau = tinh_nguyen_lieu(s1_bdx, s2_btc, s3_bd)\n",
    "            print(f\"Số đường cần dùng: {duong:.2f} kg\")\n",
    "            print(f\"Số đậu cần dùng: {dau:.2f} kg\")\n",
    "        elif chon_chuc_nang == '3':\n",
    "            print(\"Thoát chương trình.\")\n",
    "            break\n",
    "        else:\n",
    "            print(\" Vui lòng chọn 1-3!\")\n",
    "\n",
    "def tinh_tien_nuoc(so_nuoc):\n",
    "    gia_ban_nuoc = (7500, 8000, 12000, 24000)\n",
    "    if so_nuoc <= 0:\n",
    "        return 0\n",
    "    elif so_nuoc <= 10:\n",
    "        tien_nuoc_thang = so_nuoc * gia_ban_nuoc[0]\n",
    "    elif so_nuoc <= 20:\n",
    "        tien_nuoc_thang = 10 * gia_ban_nuoc[0] + (so_nuoc - 10) * gia_ban_nuoc[1]\n",
    "    elif so_nuoc <= 30:\n",
    "        tien_nuoc_thang = 10 * gia_ban_nuoc[0] + 10 * gia_ban_nuoc[1] + (so_nuoc - 20) * gia_ban_nuoc[2]\n",
    "    else:\n",
    "        tien_nuoc_thang = 10 * gia_ban_nuoc[0] + 10 * gia_ban_nuoc[1] + 10 * gia_ban_nuoc[2] + (so_nuoc - 30) * gia_ban_nuoc[3]\n",
    "    return tien_nuoc_thang\n",
    "\n",
    "def tinh_nguyen_lieu(s1_bdx, s2_btc, s3_bd):\n",
    "    banh_dau_xanh = {\"đường\": 0.04, \"đậu\":0.07}\n",
    "    banh_thap_cam = {\"đường\": 0.06 , \"đậu\":0}\n",
    "    banh_dẻo = {\"đường\": 0.05, \"đậu\":0.02}\n",
    "    duong_lam_banh = s1_bdx * banh_dau_xanh[\"đường\"] + s2_btc * banh_thap_cam[\"đường\"] + s3_bd * banh_dẻo[\"đường\"]\n",
    "    dau_lam_banh = s1_bdx * banh_dau_xanh[\"đậu\"] + s2_btc * banh_thap_cam[\"đậu\"] + s3_bd * banh_dẻo[\"đậu\"]\n",
    "    return duong_lam_banh, dau_lam_banh"
   ]
  },
  {
   "cell_type": "markdown",
   "id": "e2b41d4a",
   "metadata": {},
   "source": [
    "## Lab 4 - Bài 5: bài tập làm thêm"
   ]
  },
  {
   "cell_type": "code",
   "execution_count": null,
   "id": "0e0172f7",
   "metadata": {},
   "outputs": [],
   "source": [
    "# code lab 4  bài làm thêm ở đây "
   ]
  }
 ],
 "metadata": {
  "kernelspec": {
   "display_name": "Python 3",
   "language": "python",
   "name": "python3"
  },
  "language_info": {
   "name": "python",
   "version": "3.13.2"
  }
 },
 "nbformat": 4,
 "nbformat_minor": 5
}
